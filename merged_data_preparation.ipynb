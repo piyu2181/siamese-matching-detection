{
 "cells": [
  {
   "cell_type": "markdown",
   "metadata": {},
   "source": [
    "### Marging the data files and getting the best match "
   ]
  },
  {
   "cell_type": "markdown",
   "metadata": {},
   "source": [
    "Input: outputs from siamese matching filter, matched with different frames\n",
    "\n",
    "Output: one .dat file where the best match for each frame will be stored out of all matches"
   ]
  },
  {
   "cell_type": "code",
   "execution_count": 56,
   "metadata": {},
   "outputs": [],
   "source": [
    "#Import requires libraries\n",
    "import os\n",
    "import glob\n",
    "import pandas as pd"
   ]
  },
  {
   "cell_type": "code",
   "execution_count": 72,
   "metadata": {},
   "outputs": [],
   "source": [
    "# give chosen frames\n",
    "df_indices = [10405,7509,7681,7954,8095]\n",
    "path = \"/Users/debjani/Desktop/projects/Thesis/data/siamese_output/refrigarator/\"\n",
    "# Give file paths\n",
    "file1= os.path.join(path, \"match_with_10405/refrigarator10405.dat\")\n",
    "file2 = os.path.join(path,\"match_with_7509/refrigarator7509.dat\")\n",
    "file3 = os.path.join(path,\"match_with_7681/refrigarator7681.dat\")\n",
    "file4 = os.path.join(path, \"match_with_7954/refrigarator7954.dat\")\n",
    "file5 = os.path.join(path, \"match_with_8095/refrigarator8095.dat\")\n",
    "col_names = [\"frame_id\", \"xmin\", \"ymin\", \"width\", 'height', \"score\"]\n",
    "# read all files in corresponding dataframe\n",
    "df1 = pd.read_csv(file1, sep=\"\\t\", names= col_names, index_col= None )\n",
    "df2 = pd.read_csv(file2, sep=\"\\t\", names= col_names, index_col= None )\n",
    "df3 = pd.read_csv(file3, sep=\"\\t\", names= col_names, index_col= None )\n",
    "df4 = pd.read_csv(file4, sep=\"\\t\", names= col_names, index_col= None )\n",
    "df5 = pd.read_csv(file5, sep=\"\\t\", names= col_names, index_col= None )\n",
    "    "
   ]
  },
  {
   "cell_type": "code",
   "execution_count": 73,
   "metadata": {},
   "outputs": [
    {
     "name": "stdout",
     "output_type": "stream",
     "text": [
      "((952, 6), (952, 6), (952, 6), (952, 6), (952, 6))\n"
     ]
    }
   ],
   "source": [
    "print(df1.shape, df2.shape,df3.shape, df4.shape,df5.shape)"
   ]
  },
  {
   "cell_type": "code",
   "execution_count": 74,
   "metadata": {},
   "outputs": [],
   "source": [
    "df_list = [df1, df2, df3,df4,df5]"
   ]
  },
  {
   "cell_type": "code",
   "execution_count": 75,
   "metadata": {},
   "outputs": [],
   "source": [
    "new_df = df1.copy()\n",
    "new_df['ref_id'] = new_df['frame_id']"
   ]
  },
  {
   "cell_type": "code",
   "execution_count": 76,
   "metadata": {
    "scrolled": true
   },
   "outputs": [
    {
     "name": "stderr",
     "output_type": "stream",
     "text": [
      "/Users/debjani/anaconda3/anaconda3/envs/env2_1/lib/python2.7/site-packages/ipykernel_launcher.py:9: SettingWithCopyWarning: \n",
      "A value is trying to be set on a copy of a slice from a DataFrame\n",
      "\n",
      "See the caveats in the documentation: http://pandas.pydata.org/pandas-docs/stable/indexing.html#indexing-view-versus-copy\n",
      "  if __name__ == '__main__':\n",
      "/Users/debjani/anaconda3/anaconda3/envs/env2_1/lib/python2.7/site-packages/ipykernel_launcher.py:10: SettingWithCopyWarning: \n",
      "A value is trying to be set on a copy of a slice from a DataFrame\n",
      "\n",
      "See the caveats in the documentation: http://pandas.pydata.org/pandas-docs/stable/indexing.html#indexing-view-versus-copy\n",
      "  # Remove the CWD from sys.path while we load stuff.\n"
     ]
    }
   ],
   "source": [
    "# chose best frame which gives highest simillarity score\n",
    "for i in range(df1.shape[0]):\n",
    "    #print(i)\n",
    "    max_score = 0\n",
    "    ref_id = 0\n",
    "    for j in range(len(df_list)):\n",
    "        if df_list[j]['score'][i] > max_score:\n",
    "            max_score = df_list[j]['score'][i]\n",
    "            ref_id = df_indices[j]\n",
    "    new_df['score'][i] = max_score\n",
    "    new_df['ref_id'][i] = ref_id\n",
    "    "
   ]
  },
  {
   "cell_type": "code",
   "execution_count": 77,
   "metadata": {},
   "outputs": [],
   "source": [
    "#save the data in corresponding folder\n",
    "new_df.to_csv(\"/Users/debjani/Desktop/projects/Thesis/data/siamese_output/refrigarator/refrigarator_final.dat\",sep = \"\\t\")\n",
    "\n",
    "\n"
   ]
  },
  {
   "cell_type": "code",
   "execution_count": null,
   "metadata": {},
   "outputs": [],
   "source": []
  },
  {
   "cell_type": "code",
   "execution_count": null,
   "metadata": {},
   "outputs": [],
   "source": []
  },
  {
   "cell_type": "code",
   "execution_count": null,
   "metadata": {},
   "outputs": [],
   "source": []
  }
 ],
 "metadata": {
  "kernelspec": {
   "display_name": "Python 2",
   "language": "python",
   "name": "python2"
  },
  "language_info": {
   "codemirror_mode": {
    "name": "ipython",
    "version": 2
   },
   "file_extension": ".py",
   "mimetype": "text/x-python",
   "name": "python",
   "nbconvert_exporter": "python",
   "pygments_lexer": "ipython2",
   "version": "2.7.15"
  }
 },
 "nbformat": 4,
 "nbformat_minor": 2
}
